{
 "cells": [
  {
   "cell_type": "code",
   "execution_count": 10,
   "metadata": {},
   "outputs": [],
   "source": [
    "import os\n",
    "import pandas as pd \n",
    "import numpy as np\n",
    "import seaborn as sns\n",
    "import matplotlib.pyplot as plt\n",
    "import tarfile\n",
    "from sklearn.model_selection import train_test_split\n",
    "from glob import glob"
   ]
  },
  {
   "cell_type": "code",
   "execution_count": 11,
   "metadata": {},
   "outputs": [],
   "source": [
    "# loading the images\n",
    "image_dir = 'images'\n",
    "mask_dir = 'masks'\n"
   ]
  },
  {
   "cell_type": "code",
   "execution_count": 12,
   "metadata": {},
   "outputs": [],
   "source": [
    "# Function to load images and masks\n",
    "def load_data(image_dir, mask_dir):\n",
    "    image_paths = sorted(glob(os.path.join(image_dir, '*.png')))  # Adjust the extension if needed\n",
    "    mask_paths = sorted(glob(os.path.join(mask_dir, '*.png')))    # Adjust the extension if needed\n",
    "    \n",
    "    images = [tf.image.decode_image(tf.io.read_file(img_path)) for img_path in image_paths]\n",
    "    masks = [tf.image.decode_image(tf.io.read_file(mask_path)) for mask_path in mask_paths]\n",
    "    \n",
    "    return np.array(images), np.array(masks)"
   ]
  },
  {
   "cell_type": "code",
   "execution_count": 15,
   "metadata": {},
   "outputs": [],
   "source": [
    "# Load images and masks\n",
    "images, masks = load_data(image_dir, mask_dir)\n",
    "\n",
    "# Normalize images and masks\n",
    "images = images / 255.0\n",
    "masks = masks / 255.0\n"
   ]
  }
 ],
 "metadata": {
  "kernelspec": {
   "display_name": "Python 3",
   "language": "python",
   "name": "python3"
  },
  "language_info": {
   "codemirror_mode": {
    "name": "ipython",
    "version": 3
   },
   "file_extension": ".py",
   "mimetype": "text/x-python",
   "name": "python",
   "nbconvert_exporter": "python",
   "pygments_lexer": "ipython3",
   "version": "3.12.1"
  }
 },
 "nbformat": 4,
 "nbformat_minor": 2
}
